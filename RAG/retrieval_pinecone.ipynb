{
 "cells": [
  {
   "cell_type": "code",
   "execution_count": 11,
   "metadata": {},
   "outputs": [],
   "source": [
    "import os\n",
    "from dotenv import load_dotenv\n",
    "from langchain_openai import OpenAIEmbeddings\n",
    "from langchain_pinecone import PineconeVectorStore\n",
    "from pprint import pprint\n"
   ]
  },
  {
   "cell_type": "code",
   "execution_count": 6,
   "metadata": {},
   "outputs": [],
   "source": [
    "index_name = \"langchain-index\"\n",
    "embeddings = OpenAIEmbeddings(model='text-embedding-3-small')\n"
   ]
  },
  {
   "cell_type": "code",
   "execution_count": 7,
   "metadata": {},
   "outputs": [],
   "source": [
    "vector_store = PineconeVectorStore(index_name=index_name, embedding=embeddings)"
   ]
  },
  {
   "cell_type": "code",
   "execution_count": 13,
   "metadata": {},
   "outputs": [
    {
     "name": "stdout",
     "output_type": "stream",
     "text": [
      "('Provides Life-Saving Humanitarian Assistance and Combats Global Food '\n",
      " 'Insecurity. The Budget provides $10.3 billion in life-saving humanitarian '\n",
      " 'and refugee assistance to support more than 330 million people in need in '\n",
      " 'more than 70 countries in addition to the emergency supplemental request of '\n",
      " '$10 billion to address unprecedented global humanitarian needs, including '\n",
      " 'the dire humanitarian situation facing Palestinians in Gaza. The Department '\n",
      " 'of State and the United States Agency for International Development will '\n",
      " 'have to reduce life-saving assistance around the globe without the '\n",
      " 'additional $10 billion in humanitarian assistance requested in the '\n",
      " 'Administration’s October 2023 National Security Supplemental Request.\\n'\n",
      " '\\n'\n",
      " '### Title: FACT SHEET: The President’s Budget for Fiscal Year 2025 Date '\n",
      " 'Posted: March 11, 2024 Category: Statements and Releases')\n",
      "('In addition, the President’s Budget explains his principles for addressing '\n",
      " 'tax cuts expiring after 2025. The President would extend all middle-class '\n",
      " 'tax cuts; as he has repeatedly promised, he will not raise taxes on anyone '\n",
      " 'making less than $400,000 per year. And he will fully pay for these '\n",
      " 'extensions with additional reforms to make the wealthy and corporations pay '\n",
      " 'their fair share, so that they do not add to the debt. At the same time, he '\n",
      " 'opposes tax cuts for the wealthy—either extending tax cuts for the top 2 '\n",
      " 'percent of Americans earning more than $400,000 per year or bringing back '\n",
      " 'deductions and other tax breaks for these households.\\n'\n",
      " '\\n'\n",
      " '### Title: FACT SHEET: The President’s Budget Cuts Taxes for Working '\n",
      " 'Families and Makes Big Corporations and the Wealthy Pay Their Fair Share '\n",
      " 'Date Posted: March 11, 2024 Category: Statements and Releases')\n",
      "('In addition, the President’s Budget explains his principles for addressing '\n",
      " 'tax cuts expiring after 2025. The President would extend all middle-class '\n",
      " 'tax cuts; as he has repeatedly promised, he will not raise taxes on anyone '\n",
      " 'making less than $400,000 per year. And he will fully pay for these '\n",
      " 'extensions with additional reforms to make the wealthy and corporations pay '\n",
      " 'their fair share, so that they do not add to the debt. At the same time, he '\n",
      " 'opposes tax cuts for the wealthy—either extending tax cuts for the top 2 '\n",
      " 'percent of Americans earning more than $400,000 per year or bringing back '\n",
      " 'deductions and other tax breaks for these households.\\n'\n",
      " '\\n'\n",
      " '### Title: FACT SHEET: The President’s Budget Cuts Taxes for Working '\n",
      " 'Families and Makes Big Corporations and the Wealthy Pay Their Fair Share '\n",
      " 'Date Posted: March 11, 2024 Category: Statements and Releases')\n"
     ]
    }
   ],
   "source": [
    "query = \"Tax policies for young adults\"\n",
    "docs = vector_store.similarity_search(query, 3)\n",
    "pprint(docs[0].page_content)\n",
    "pprint(docs[1].page_content)\n",
    "pprint(docs[2].page_content)"
   ]
  },
  {
   "cell_type": "code",
   "execution_count": null,
   "metadata": {},
   "outputs": [],
   "source": [
    "# Make actual retriever \n",
    "vector_store = PineconeVectorStore(index_name=index_name, embedding=embeddings)\n",
    "\n",
    "retriever = vector_store.as_retriever(\n",
    "    search_type=\"similarity_score_threshold\",\n",
    "    search_kwargs={'k': 3}\n",
    "    )"
   ]
  },
  {
   "cell_type": "code",
   "execution_count": null,
   "metadata": {},
   "outputs": [],
   "source": [
    "matched_docs = retriever.invoke(query)\n",
    "for i, d in enumerate(matched_docs):\n",
    "    print(f\"\\n## Document {i}\\n\")\n",
    "    print(d.page_content)"
   ]
  }
 ],
 "metadata": {
  "kernelspec": {
   "display_name": "WTP",
   "language": "python",
   "name": "python3"
  },
  "language_info": {
   "codemirror_mode": {
    "name": "ipython",
    "version": 3
   },
   "file_extension": ".py",
   "mimetype": "text/x-python",
   "name": "python",
   "nbconvert_exporter": "python",
   "pygments_lexer": "ipython3",
   "version": "3.12.4"
  }
 },
 "nbformat": 4,
 "nbformat_minor": 2
}
