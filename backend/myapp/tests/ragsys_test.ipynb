{
 "cells": [
  {
   "cell_type": "code",
   "execution_count": 1,
   "metadata": {},
   "outputs": [],
   "source": [
    "# Import necessary libraries and load environment variables\n",
    "import os\n",
    "import sys\n",
    "from dotenv import load_dotenv\n"
   ]
  },
  {
   "cell_type": "code",
   "execution_count": 2,
   "metadata": {},
   "outputs": [],
   "source": [
    "# dir\n",
    "sys.path.append(os.path.abspath(os.path.join(os.getcwd(), os.pardir)))\n"
   ]
  },
  {
   "cell_type": "code",
   "execution_count": 5,
   "metadata": {},
   "outputs": [
    {
     "name": "stderr",
     "output_type": "stream",
     "text": [
      "/Users/nishanshehadeh/opt/anaconda3/envs/WTP/lib/python3.12/site-packages/pinecone/data/index.py:1: TqdmWarning: IProgress not found. Please update jupyter and ipywidgets. See https://ipywidgets.readthedocs.io/en/stable/user_install.html\n",
      "  from tqdm.autonotebook import tqdm\n"
     ]
    }
   ],
   "source": [
    "from rag_system import RAGSystem\n"
   ]
  },
  {
   "cell_type": "code",
   "execution_count": 7,
   "metadata": {},
   "outputs": [
    {
     "name": "stdout",
     "output_type": "stream",
     "text": [
      "Response: Nothing message is implemented here so I have no idea how to answer: President Biden's tax policies include extending all middle-class tax cuts and ensuring no tax increases for individuals making less than $400,000 per year. He plans to finance these extensions through reforms targeting the wealthy and corporations to ensure they pay their fair share, thereby avoiding additional debt. Biden also opposes extending or reinstating tax cuts for those earning more than $400,000 annually.\n",
      "\n",
      "Context: Details on Biden's tax policies from multiple documents in the White House briefing room collection.\n"
     ]
    }
   ],
   "source": [
    "# Create an instance of the RAGSystem with default settings\n",
    "rag_system = RAGSystem()\n",
    "\n",
    "# Test the RAGSystem with a query\n",
    "query = \"Give some info on Biden's tax policies\"\n",
    "response = rag_system.handle_query(query)\n",
    "print(\"Response:\", response)"
   ]
  },
  {
   "cell_type": "code",
   "execution_count": null,
   "metadata": {},
   "outputs": [],
   "source": []
  },
  {
   "cell_type": "code",
   "execution_count": null,
   "metadata": {},
   "outputs": [],
   "source": []
  }
 ],
 "metadata": {
  "kernelspec": {
   "display_name": "WTP",
   "language": "python",
   "name": "python3"
  },
  "language_info": {
   "codemirror_mode": {
    "name": "ipython",
    "version": 3
   },
   "file_extension": ".py",
   "mimetype": "text/x-python",
   "name": "python",
   "nbconvert_exporter": "python",
   "pygments_lexer": "ipython3",
   "version": "3.12.4"
  }
 },
 "nbformat": 4,
 "nbformat_minor": 2
}
